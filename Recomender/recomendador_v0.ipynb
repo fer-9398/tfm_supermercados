{
 "cells": [
  {
   "cell_type": "code",
   "execution_count": 15,
   "metadata": {},
   "outputs": [],
   "source": [
    "\n",
    "import pandas as pd\n",
    "import mysql.connector\n"
   ]
  },
  {
   "cell_type": "code",
   "execution_count": 16,
   "metadata": {},
   "outputs": [
    {
     "data": {
      "text/plain": [
       "<mysql.connector.cursor_cext.CMySQLCursor at 0x19aafb809a0>"
      ]
     },
     "execution_count": 16,
     "metadata": {},
     "output_type": "execute_result"
    }
   ],
   "source": [
    "mydb = mysql.connector.connect(\n",
    "    host = '34.175.156.252',\n",
    "    user = 'root',\n",
    "    passwd = 'tfmalimentos',\n",
    "    database = 'alimentos'\n",
    ")\n"
   ]
  },
  {
   "cell_type": "code",
   "execution_count": 18,
   "metadata": {},
   "outputs": [],
   "source": [
    "query = \"SELECT distinct product_name, name, brands, medida_similitud FROM alimentos.merge WHERE medida_similitud >= 0.88 ORDER BY medida_similitud;\"\n",
    "df = pd.read_sql(query, mydb)"
   ]
  },
  {
   "cell_type": "code",
   "execution_count": 20,
   "metadata": {},
   "outputs": [
    {
     "data": {
      "text/html": [
       "<div>\n",
       "<style scoped>\n",
       "    .dataframe tbody tr th:only-of-type {\n",
       "        vertical-align: middle;\n",
       "    }\n",
       "\n",
       "    .dataframe tbody tr th {\n",
       "        vertical-align: top;\n",
       "    }\n",
       "\n",
       "    .dataframe thead th {\n",
       "        text-align: right;\n",
       "    }\n",
       "</style>\n",
       "<table border=\"1\" class=\"dataframe\">\n",
       "  <thead>\n",
       "    <tr style=\"text-align: right;\">\n",
       "      <th></th>\n",
       "      <th>product_name</th>\n",
       "      <th>name</th>\n",
       "      <th>brands</th>\n",
       "      <th>medida_similitud</th>\n",
       "    </tr>\n",
       "  </thead>\n",
       "  <tbody>\n",
       "    <tr>\n",
       "      <th>0</th>\n",
       "      <td>crema de cacao con avellana eco veritas 400g</td>\n",
       "      <td>Crema de cacao Noisetti sin lactosa 400 g.</td>\n",
       "      <td>veritas</td>\n",
       "      <td>0.880043</td>\n",
       "    </tr>\n",
       "    <tr>\n",
       "      <th>1</th>\n",
       "      <td>azucar blanco terrones</td>\n",
       "      <td>Azucar blanco en terrones Azucarera 1 kg.</td>\n",
       "      <td>azucarera</td>\n",
       "      <td>0.880044</td>\n",
       "    </tr>\n",
       "    <tr>\n",
       "      <th>2</th>\n",
       "      <td>zumo de pina, mango y maracuya</td>\n",
       "      <td>Zumo de piña, mango y maracuya El Frutero bote...</td>\n",
       "      <td>el frutero</td>\n",
       "      <td>0.880051</td>\n",
       "    </tr>\n",
       "    <tr>\n",
       "      <th>3</th>\n",
       "      <td>arroz integral cocido con agua de mar</td>\n",
       "      <td>Arroz integral vaporizado Carrefour 1 kg.</td>\n",
       "      <td>natursoy,nutrition &amp; sante iberia s.l.,nutriti...</td>\n",
       "      <td>0.880077</td>\n",
       "    </tr>\n",
       "    <tr>\n",
       "      <th>4</th>\n",
       "      <td>chocolate blanco con aove avellanas y trufa</td>\n",
       "      <td>Chocolate blanco Hacendado fussion galletas al...</td>\n",
       "      <td>la chinata</td>\n",
       "      <td>0.880113</td>\n",
       "    </tr>\n",
       "    <tr>\n",
       "      <th>...</th>\n",
       "      <td>...</td>\n",
       "      <td>...</td>\n",
       "      <td>...</td>\n",
       "      <td>...</td>\n",
       "    </tr>\n",
       "    <tr>\n",
       "      <th>12750</th>\n",
       "      <td>zanahorias</td>\n",
       "      <td>Zanahorias</td>\n",
       "      <td>agricola villena,hoy me cuido</td>\n",
       "      <td>1.000000</td>\n",
       "    </tr>\n",
       "    <tr>\n",
       "      <th>12751</th>\n",
       "      <td>zanahorias</td>\n",
       "      <td>Zanahorias</td>\n",
       "      <td>helios</td>\n",
       "      <td>1.000000</td>\n",
       "    </tr>\n",
       "    <tr>\n",
       "      <th>12752</th>\n",
       "      <td>zanahorias</td>\n",
       "      <td>Zanahorias</td>\n",
       "      <td>herfruit</td>\n",
       "      <td>1.000000</td>\n",
       "    </tr>\n",
       "    <tr>\n",
       "      <th>12753</th>\n",
       "      <td>zanahorias</td>\n",
       "      <td>Zanahorias</td>\n",
       "      <td>mercaver</td>\n",
       "      <td>1.000000</td>\n",
       "    </tr>\n",
       "    <tr>\n",
       "      <th>12754</th>\n",
       "      <td>zanahorias</td>\n",
       "      <td>Zanahorias</td>\n",
       "      <td>naturmaes</td>\n",
       "      <td>1.000000</td>\n",
       "    </tr>\n",
       "  </tbody>\n",
       "</table>\n",
       "<p>12755 rows × 4 columns</p>\n",
       "</div>"
      ],
      "text/plain": [
       "                                       product_name  \\\n",
       "0      crema de cacao con avellana eco veritas 400g   \n",
       "1                            azucar blanco terrones   \n",
       "2                    zumo de pina, mango y maracuya   \n",
       "3             arroz integral cocido con agua de mar   \n",
       "4       chocolate blanco con aove avellanas y trufa   \n",
       "...                                             ...   \n",
       "12750                                    zanahorias   \n",
       "12751                                    zanahorias   \n",
       "12752                                    zanahorias   \n",
       "12753                                    zanahorias   \n",
       "12754                                    zanahorias   \n",
       "\n",
       "                                                    name  \\\n",
       "0             Crema de cacao Noisetti sin lactosa 400 g.   \n",
       "1              Azucar blanco en terrones Azucarera 1 kg.   \n",
       "2      Zumo de piña, mango y maracuya El Frutero bote...   \n",
       "3              Arroz integral vaporizado Carrefour 1 kg.   \n",
       "4      Chocolate blanco Hacendado fussion galletas al...   \n",
       "...                                                  ...   \n",
       "12750                                         Zanahorias   \n",
       "12751                                         Zanahorias   \n",
       "12752                                         Zanahorias   \n",
       "12753                                         Zanahorias   \n",
       "12754                                         Zanahorias   \n",
       "\n",
       "                                                  brands  medida_similitud  \n",
       "0                                                veritas          0.880043  \n",
       "1                                              azucarera          0.880044  \n",
       "2                                             el frutero          0.880051  \n",
       "3      natursoy,nutrition & sante iberia s.l.,nutriti...          0.880077  \n",
       "4                                             la chinata          0.880113  \n",
       "...                                                  ...               ...  \n",
       "12750                      agricola villena,hoy me cuido          1.000000  \n",
       "12751                                             helios          1.000000  \n",
       "12752                                           herfruit          1.000000  \n",
       "12753                                           mercaver          1.000000  \n",
       "12754                                          naturmaes          1.000000  \n",
       "\n",
       "[12755 rows x 4 columns]"
      ]
     },
     "execution_count": 20,
     "metadata": {},
     "output_type": "execute_result"
    }
   ],
   "source": [
    "df"
   ]
  }
 ],
 "metadata": {
  "kernelspec": {
   "display_name": "Python 3.9.7 ('base')",
   "language": "python",
   "name": "python3"
  },
  "language_info": {
   "codemirror_mode": {
    "name": "ipython",
    "version": 3
   },
   "file_extension": ".py",
   "mimetype": "text/x-python",
   "name": "python",
   "nbconvert_exporter": "python",
   "pygments_lexer": "ipython3",
   "version": "3.9.7"
  },
  "orig_nbformat": 4,
  "vscode": {
   "interpreter": {
    "hash": "ad2bdc8ecc057115af97d19610ffacc2b4e99fae6737bb82f5d7fb13d2f2c186"
   }
  }
 },
 "nbformat": 4,
 "nbformat_minor": 2
}
